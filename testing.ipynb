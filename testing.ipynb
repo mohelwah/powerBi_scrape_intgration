{
 "cells": [
  {
   "cell_type": "code",
   "execution_count": 97,
   "id": "f9f7881d",
   "metadata": {},
   "outputs": [],
   "source": [
    "from selenium import webdriver\n",
    "from selenium.webdriver.common.by import By\n",
    "from selenium.webdriver.common.keys import Keys\n",
    "from bs4 import BeautifulSoup\n",
    "import time\n",
    "from time import sleep\n",
    "from random import randint\n",
    "import pandas as pd"
   ]
  },
  {
   "cell_type": "code",
   "execution_count": 190,
   "id": "4a9284e1-7005-4b91-861e-326a349d2942",
   "metadata": {},
   "outputs": [
    {
     "name": "stderr",
     "output_type": "stream",
     "text": [
      "/tmp/ipykernel_5410/521642558.py:1: DeprecationWarning: executable_path has been deprecated, please pass in a Service object\n",
      "  driver = webdriver.Chrome(executable_path='/usr/bin/chromedriver')\n"
     ]
    }
   ],
   "source": [
    "driver = webdriver.Chrome(executable_path='/usr/bin/chromedriver')\n",
    "driver.get('https://www.realestate.moj.gov.kw/live/Moj_Rs_11.aspx')"
   ]
  },
  {
   "cell_type": "markdown",
   "id": "b2f28c9d",
   "metadata": {},
   "source": [
    "### Helper Function"
   ]
  },
  {
   "cell_type": "code",
   "execution_count": 103,
   "id": "97409633",
   "metadata": {},
   "outputs": [],
   "source": [
    "def small_sleep(low=1, high=10):\n",
    "    sleep(randint(low,high))"
   ]
  },
  {
   "cell_type": "code",
   "execution_count": 104,
   "id": "f76af4a4",
   "metadata": {},
   "outputs": [],
   "source": [
    "def large_sleep(low=1, high=20):\n",
    "    sleep(randint(low,high))"
   ]
  },
  {
   "cell_type": "code",
   "execution_count": 66,
   "id": "4a522981-7d09-4c32-9c7b-8518345e7be9",
   "metadata": {},
   "outputs": [],
   "source": [
    "def get_data(driver):\n",
    "    data = {}\n",
    "    elements = driver.find_elements(By.XPATH(\"//*\"))\n",
    "    for element in elements:\n",
    "        if element.get_attribute(\"id\"):\n",
    "            data[element.get_attribute(\"id\")] = element.get_attribute(\"value\")\n",
    "    return data"
   ]
  },
  {
   "cell_type": "code",
   "execution_count": null,
   "id": "1b1dc62e",
   "metadata": {},
   "outputs": [],
   "source": [
    "def check_button(driver, id):\n",
    "    element = driver.find_element_by_id(id)\n",
    "    if not element.is_selected():\n",
    "        element.click()"
   ]
  },
  {
   "cell_type": "code",
   "execution_count": 94,
   "id": "5e603664",
   "metadata": {},
   "outputs": [],
   "source": [
    "def click_button(driver, id):\n",
    "    element = driver.find_element(By.ID(id))\n",
    "    element.click()"
   ]
  },
  {
   "cell_type": "code",
   "execution_count": null,
   "id": "2348ef15",
   "metadata": {},
   "outputs": [],
   "source": [
    "def get_html(driver):\n",
    "    html = driver.page_source\n",
    "    return html"
   ]
  },
  {
   "cell_type": "code",
   "execution_count": 32,
   "id": "a7ff0a45",
   "metadata": {},
   "outputs": [],
   "source": [
    "def get_beautiful_soup(driver):\n",
    "    soup = BeautifulSoup(driver.page_source, 'html.parser')\n",
    "    return soup\n"
   ]
  },
  {
   "cell_type": "code",
   "execution_count": 38,
   "id": "2b0643f3",
   "metadata": {},
   "outputs": [],
   "source": [
    "def get_table_data(driver):\n",
    "    source = get_beautiful_soup(driver)\n",
    "    table = source.find('table')\n",
    "    table_body = table.find('tbody')\n",
    "    rows = table_body.find_all('tr')\n",
    "    for row in rows:\n",
    "        cols = row.find_all('td')\n",
    "        cols = [ele.text.strip() for ele in cols]\n",
    "        data.append([ele for ele in cols if ele]) # Get rid of empty values\n",
    "    return True"
   ]
  },
  {
   "cell_type": "markdown",
   "id": "bbf1443b",
   "metadata": {},
   "source": [
    "### Testing"
   ]
  },
  {
   "cell_type": "code",
   "execution_count": null,
   "id": "cf57eb80",
   "metadata": {},
   "outputs": [],
   "source": [
    "driver.find_element"
   ]
  },
  {
   "cell_type": "code",
   "execution_count": null,
   "id": "2f869685",
   "metadata": {},
   "outputs": [],
   "source": [
    "inputx.click()"
   ]
  },
  {
   "cell_type": "code",
   "execution_count": null,
   "id": "e0f7adbb",
   "metadata": {},
   "outputs": [],
   "source": [
    "jave = \"javascript:__doPostBack('ctl00$bodyContent$gridList','Page$2')\""
   ]
  },
  {
   "cell_type": "code",
   "execution_count": null,
   "id": "a89e139d",
   "metadata": {},
   "outputs": [],
   "source": []
  },
  {
   "cell_type": "code",
   "execution_count": null,
   "id": "5cbce4fd",
   "metadata": {},
   "outputs": [],
   "source": []
  },
  {
   "cell_type": "markdown",
   "id": "3dc90c15",
   "metadata": {},
   "source": [
    "## main Form"
   ]
  },
  {
   "cell_type": "code",
   "execution_count": 191,
   "id": "33af83f0-fa5a-4000-9591-085ee00def07",
   "metadata": {},
   "outputs": [],
   "source": [
    "from_date = '5/1/2023'\n",
    "to_date = \"23/01/2023\""
   ]
  },
  {
   "cell_type": "code",
   "execution_count": 192,
   "id": "af346c1c-9fdf-4e68-a370-344022c3b9d4",
   "metadata": {},
   "outputs": [],
   "source": [
    "from_date_el = driver.find_element(By.ID, \"bodyContent_fromDate\")\n",
    "from_date_el.send_keys(from_date)"
   ]
  },
  {
   "cell_type": "code",
   "execution_count": 193,
   "id": "511be8a9-77ba-47c9-9952-8afb672258f5",
   "metadata": {},
   "outputs": [],
   "source": [
    "to_date_el = driver.find_element(By.ID, \"bodyContent_tillDate\")\n",
    "to_date_el.send_keys(to_date)"
   ]
  },
  {
   "cell_type": "code",
   "execution_count": 194,
   "id": "b8d30d98",
   "metadata": {},
   "outputs": [],
   "source": [
    "## click to main button\n",
    "checked = False"
   ]
  },
  {
   "cell_type": "code",
   "execution_count": 195,
   "id": "e8f93fce-b9b0-4c8b-bfae-76089abb1d15",
   "metadata": {},
   "outputs": [],
   "source": [
    "if checked== False:\n",
    "    driver.execute_script('document.getElementById(\"bodyContent_cbGov\").click()')\n",
    "    small_sleep()\n",
    "    driver.execute_script('document.getElementById(\"bodyContent_cbZone\").click()')\n",
    "    small_sleep()\n",
    "    driver.execute_script('document.getElementById(\"bodyContent_cbCat\").click()')\n",
    "    small_sleep()\n",
    "    checked = True"
   ]
  },
  {
   "cell_type": "code",
   "execution_count": 196,
   "id": "51d1efae-b1c1-43f2-8cbd-6a2d6501c0bf",
   "metadata": {},
   "outputs": [],
   "source": [
    "if checked==True:\n",
    "    driver.execute_script('document.getElementById(\"bodyContent_btnSubmit\").click()')"
   ]
  },
  {
   "cell_type": "code",
   "execution_count": 96,
   "id": "74e2031d",
   "metadata": {},
   "outputs": [],
   "source": []
  },
  {
   "cell_type": "code",
   "execution_count": null,
   "id": "ced891d7-c249-4714-b898-aac05c870d31",
   "metadata": {},
   "outputs": [],
   "source": []
  },
  {
   "cell_type": "code",
   "execution_count": null,
   "id": "600f1aff-23b4-4ec2-8fbc-ea30cc708e8c",
   "metadata": {},
   "outputs": [],
   "source": []
  },
  {
   "cell_type": "code",
   "execution_count": null,
   "id": "f41f39dd-1ce9-49f2-afac-0d479f1e7b00",
   "metadata": {},
   "outputs": [],
   "source": []
  },
  {
   "cell_type": "code",
   "execution_count": null,
   "id": "1efb8a57-a5f8-44e8-89e8-ef2813086606",
   "metadata": {},
   "outputs": [],
   "source": []
  },
  {
   "cell_type": "code",
   "execution_count": null,
   "id": "4059c90f-3c56-4d04-aca4-8df65baaa986",
   "metadata": {},
   "outputs": [],
   "source": []
  },
  {
   "cell_type": "code",
   "execution_count": 42,
   "id": "5ecb08f6-b023-435e-9db1-2842ac2ae544",
   "metadata": {},
   "outputs": [],
   "source": []
  },
  {
   "cell_type": "markdown",
   "id": "44667d9b",
   "metadata": {},
   "source": [
    "## get table data"
   ]
  },
  {
   "cell_type": "code",
   "execution_count": 43,
   "id": "0fb56b9d-4618-451f-b7cd-d73162497273",
   "metadata": {},
   "outputs": [],
   "source": [
    "source = get_beautiful_soup(driver)"
   ]
  },
  {
   "cell_type": "code",
   "execution_count": 34,
   "id": "be18b197-6f3c-44c7-99f1-25b52a01ee79",
   "metadata": {},
   "outputs": [],
   "source": [
    "data = get_table_data(driver)"
   ]
  },
  {
   "cell_type": "markdown",
   "id": "74c3c109",
   "metadata": {},
   "source": [
    "## pages"
   ]
  },
  {
   "cell_type": "code",
   "execution_count": 185,
   "id": "82685dfa",
   "metadata": {},
   "outputs": [],
   "source": [
    "def get_first_page(driver=driver):\n",
    "    return int(driver.find_elements(By.TAG_NAME, 'a')[0].get_attribute('href').split(sep=',')[-1].split(sep=\"$\")[-1][:-2])"
   ]
  },
  {
   "cell_type": "code",
   "execution_count": 198,
   "id": "b299452c",
   "metadata": {},
   "outputs": [],
   "source": [
    "def get_last_page(driver=driver):\n",
    "    return int(driver.find_elements(By.TAG_NAME, 'a')[-1].get_attribute('href').split(sep=',')[-1].split(sep=\"$\")[-1][:-2])"
   ]
  },
  {
   "cell_type": "code",
   "execution_count": 115,
   "id": "39db498c",
   "metadata": {},
   "outputs": [],
   "source": [
    "href = driver.find_elements(By.TAG_NAME, 'a')[9].get_attribute('href')"
   ]
  },
  {
   "cell_type": "code",
   "execution_count": 118,
   "id": "06ad58e2",
   "metadata": {},
   "outputs": [
    {
     "data": {
      "text/plain": [
       "\"'Page$11')\""
      ]
     },
     "execution_count": 118,
     "metadata": {},
     "output_type": "execute_result"
    }
   ],
   "source": [
    "href.split(sep=',')[-1]"
   ]
  },
  {
   "cell_type": "code",
   "execution_count": 151,
   "id": "e23b9104",
   "metadata": {},
   "outputs": [],
   "source": [
    "last_page = get_last_page(driver)"
   ]
  },
  {
   "cell_type": "code",
   "execution_count": 152,
   "id": "b901b034",
   "metadata": {},
   "outputs": [
    {
     "data": {
      "text/plain": [
       "11"
      ]
     },
     "execution_count": 152,
     "metadata": {},
     "output_type": "execute_result"
    }
   ],
   "source": [
    "last_page"
   ]
  },
  {
   "cell_type": "code",
   "execution_count": 173,
   "id": "c7e43f31",
   "metadata": {},
   "outputs": [
    {
     "data": {
      "text/plain": [
       "\"javascript:__doPostBack('ctl00$bodyContent$gridList','Page$1')\""
      ]
     },
     "execution_count": 173,
     "metadata": {},
     "output_type": "execute_result"
    }
   ],
   "source": [
    "driver.find_elements(By.TAG_NAME, 'a')[0].get_attribute('href')"
   ]
  },
  {
   "cell_type": "code",
   "execution_count": 153,
   "id": "5ad830b1",
   "metadata": {},
   "outputs": [
    {
     "data": {
      "text/plain": [
       "2"
      ]
     },
     "execution_count": 153,
     "metadata": {},
     "output_type": "execute_result"
    }
   ],
   "source": [
    "first_page = get_first_page()\n",
    "first_page "
   ]
  },
  {
   "cell_type": "code",
   "execution_count": 169,
   "id": "c3dde1a8",
   "metadata": {},
   "outputs": [],
   "source": [
    "first_page=9"
   ]
  },
  {
   "cell_type": "code",
   "execution_count": 42,
   "id": "48cad834-1094-4465-b0e2-979e8d36b081",
   "metadata": {
    "jupyter": {
     "source_hidden": true
    },
    "tags": []
   },
   "outputs": [],
   "source": [
    "page_numbers = len(driver.find_elements(By.TAG_NAME, 'a'))"
   ]
  },
  {
   "cell_type": "code",
   "execution_count": null,
   "id": "731cc909-d058-4ff0-95ea-0de8db7d7bf4",
   "metadata": {},
   "outputs": [],
   "source": [
    "driver.execute_script(f\"document.getElementsByTagName('a')[{last_page}].click()\")\n",
    "large_sleep()"
   ]
  },
  {
   "cell_type": "code",
   "execution_count": 172,
   "id": "6944eb0a",
   "metadata": {},
   "outputs": [],
   "source": [
    " driver.execute_script(f\"document.getElementsByTagName('a')[{first_page}].click()\")"
   ]
  },
  {
   "cell_type": "code",
   "execution_count": 199,
   "id": "31d53a0b",
   "metadata": {},
   "outputs": [],
   "source": [
    "last_page = get_last_page()"
   ]
  },
  {
   "cell_type": "code",
   "execution_count": 219,
   "id": "924f47fd",
   "metadata": {},
   "outputs": [],
   "source": [
    "def check_reach_end():\n",
    "    last_page_temp = get_last_page()\n",
    "    if last_page == last_page_temp:\n",
    "        return True\n",
    "    return False"
   ]
  },
  {
   "cell_type": "code",
   "execution_count": 220,
   "id": "8291139c",
   "metadata": {},
   "outputs": [
    {
     "data": {
      "text/plain": [
       "True"
      ]
     },
     "execution_count": 220,
     "metadata": {},
     "output_type": "execute_result"
    }
   ],
   "source": [
    "check_reach_end()"
   ]
  },
  {
   "cell_type": "code",
   "execution_count": 216,
   "id": "d5f60a93",
   "metadata": {},
   "outputs": [],
   "source": [
    "work = True"
   ]
  },
  {
   "cell_type": "code",
   "execution_count": 217,
   "id": "aadb343b",
   "metadata": {},
   "outputs": [],
   "source": [
    "i = 0\n",
    "while work:\n",
    "    if check_reach_end() == False:\n",
    "        driver.execute_script(f\"document.getElementsByTagName('a')[{i}].click()\")\n",
    "        i += 1\n",
    "        large_sleep()\n",
    "    else:\n",
    "        work = False"
   ]
  },
  {
   "cell_type": "code",
   "execution_count": 203,
   "id": "e844cbbf",
   "metadata": {},
   "outputs": [
    {
     "data": {
      "text/plain": [
       "4"
      ]
     },
     "execution_count": 203,
     "metadata": {},
     "output_type": "execute_result"
    }
   ],
   "source": [
    "i"
   ]
  },
  {
   "cell_type": "code",
   "execution_count": 210,
   "id": "e0f1ca3e",
   "metadata": {},
   "outputs": [],
   "source": [
    "driver.execute_script(f\"document.getElementsByTagName('a')[3].click()\")"
   ]
  },
  {
   "cell_type": "markdown",
   "id": "0071cb63",
   "metadata": {},
   "source": [
    "### Main loop"
   ]
  },
  {
   "cell_type": "code",
   "execution_count": 40,
   "id": "3088d517",
   "metadata": {},
   "outputs": [],
   "source": [
    "data = []"
   ]
  },
  {
   "cell_type": "code",
   "execution_count": 43,
   "id": "ecd33aa5",
   "metadata": {},
   "outputs": [],
   "source": [
    "for page_number in range(page_numbers):\n",
    "    driver.execute_script(f\"document.getElementsByTagName('a')[{page_number}].click()\")\n",
    "    large_sleep()\n",
    "    get_table_data(driver)"
   ]
  },
  {
   "cell_type": "markdown",
   "id": "184c656a",
   "metadata": {},
   "source": [
    "### convert to dataframe"
   ]
  },
  {
   "cell_type": "code",
   "execution_count": 48,
   "id": "590fd453",
   "metadata": {},
   "outputs": [],
   "source": [
    "columns = [\"المحافظة\",\"المنطقة\",\n",
    "          \"فئة العقار\",\n",
    "          \"وصف العقار\",\n",
    "          \"لتصرف\",\n",
    "                    \"النسبة\",\n",
    "          \"القطعة\",\n",
    "          \"التاريخ\",\n",
    "                    \"المساحة\",\n",
    "          \"سعر البيع\",\"none1\",'none']"
   ]
  },
  {
   "cell_type": "code",
   "execution_count": 49,
   "id": "ecd9f4a3",
   "metadata": {},
   "outputs": [
    {
     "data": {
      "text/html": [
       "<div>\n",
       "<style scoped>\n",
       "    .dataframe tbody tr th:only-of-type {\n",
       "        vertical-align: middle;\n",
       "    }\n",
       "\n",
       "    .dataframe tbody tr th {\n",
       "        vertical-align: top;\n",
       "    }\n",
       "\n",
       "    .dataframe thead th {\n",
       "        text-align: right;\n",
       "    }\n",
       "</style>\n",
       "<table border=\"1\" class=\"dataframe\">\n",
       "  <thead>\n",
       "    <tr style=\"text-align: right;\">\n",
       "      <th></th>\n",
       "      <th>المحافظة</th>\n",
       "      <th>المنطقة</th>\n",
       "      <th>فئة العقار</th>\n",
       "      <th>وصف العقار</th>\n",
       "      <th>لتصرف</th>\n",
       "      <th>النسبة</th>\n",
       "      <th>القطعة</th>\n",
       "      <th>التاريخ</th>\n",
       "      <th>المساحة</th>\n",
       "      <th>سعر البيع</th>\n",
       "      <th>none1</th>\n",
       "      <th>none</th>\n",
       "    </tr>\n",
       "  </thead>\n",
       "  <tbody>\n",
       "    <tr>\n",
       "      <th>0</th>\n",
       "      <td>None</td>\n",
       "      <td>None</td>\n",
       "      <td>None</td>\n",
       "      <td>None</td>\n",
       "      <td>None</td>\n",
       "      <td>None</td>\n",
       "      <td>None</td>\n",
       "      <td>None</td>\n",
       "      <td>None</td>\n",
       "      <td>None</td>\n",
       "      <td>None</td>\n",
       "      <td>None</td>\n",
       "    </tr>\n",
       "    <tr>\n",
       "      <th>1</th>\n",
       "      <td>مبارك الكبير</td>\n",
       "      <td>المسايل</td>\n",
       "      <td>خاص</td>\n",
       "      <td>بيت</td>\n",
       "      <td>بيع</td>\n",
       "      <td>%100.000</td>\n",
       "      <td>5</td>\n",
       "      <td>05/01/2023</td>\n",
       "      <td>400</td>\n",
       "      <td>730000</td>\n",
       "      <td>None</td>\n",
       "      <td>None</td>\n",
       "    </tr>\n",
       "    <tr>\n",
       "      <th>2</th>\n",
       "      <td>حولي</td>\n",
       "      <td>حولي</td>\n",
       "      <td>إستثماري</td>\n",
       "      <td>ارض</td>\n",
       "      <td>بيع</td>\n",
       "      <td>%100.000</td>\n",
       "      <td>43</td>\n",
       "      <td>05/01/2023</td>\n",
       "      <td>762</td>\n",
       "      <td>1245000</td>\n",
       "      <td>None</td>\n",
       "      <td>None</td>\n",
       "    </tr>\n",
       "    <tr>\n",
       "      <th>3</th>\n",
       "      <td>الفروانية</td>\n",
       "      <td>الفروانية</td>\n",
       "      <td>إستثماري</td>\n",
       "      <td>شقة</td>\n",
       "      <td>بيع</td>\n",
       "      <td>%100.000</td>\n",
       "      <td>0</td>\n",
       "      <td>05/01/2023</td>\n",
       "      <td>68.27</td>\n",
       "      <td>57000</td>\n",
       "      <td>None</td>\n",
       "      <td>None</td>\n",
       "    </tr>\n",
       "    <tr>\n",
       "      <th>4</th>\n",
       "      <td>الأحمدي</td>\n",
       "      <td>التوسعة الشمالية بالفنطاس</td>\n",
       "      <td>إستثماري</td>\n",
       "      <td>شقة</td>\n",
       "      <td>بيع</td>\n",
       "      <td>%100.000</td>\n",
       "      <td>0</td>\n",
       "      <td>05/01/2023</td>\n",
       "      <td>208.59</td>\n",
       "      <td>135000</td>\n",
       "      <td>None</td>\n",
       "      <td>None</td>\n",
       "    </tr>\n",
       "  </tbody>\n",
       "</table>\n",
       "</div>"
      ],
      "text/plain": [
       "       المحافظة                    المنطقة فئة العقار وصف العقار لتصرف  \\\n",
       "0          None                       None       None       None  None   \n",
       "1  مبارك الكبير                    المسايل        خاص        بيت   بيع   \n",
       "2          حولي                       حولي   إستثماري        ارض   بيع   \n",
       "3     الفروانية                  الفروانية   إستثماري        شقة   بيع   \n",
       "4       الأحمدي  التوسعة الشمالية بالفنطاس   إستثماري        شقة   بيع   \n",
       "\n",
       "     النسبة القطعة     التاريخ المساحة سعر البيع none1  none  \n",
       "0      None   None        None    None      None  None  None  \n",
       "1  %100.000      5  05/01/2023     400    730000  None  None  \n",
       "2  %100.000     43  05/01/2023     762   1245000  None  None  \n",
       "3  %100.000      0  05/01/2023   68.27     57000  None  None  \n",
       "4  %100.000      0  05/01/2023  208.59    135000  None  None  "
      ]
     },
     "execution_count": 49,
     "metadata": {},
     "output_type": "execute_result"
    }
   ],
   "source": [
    "df = pd.DataFrame(data=data,columns=columns)\n",
    "df.head()"
   ]
  },
  {
   "cell_type": "code",
   "execution_count": 51,
   "id": "f3062fb9-cc5e-4c21-a450-5d5292354a4d",
   "metadata": {},
   "outputs": [
    {
     "data": {
      "text/plain": [
       "(330, 12)"
      ]
     },
     "execution_count": 51,
     "metadata": {},
     "output_type": "execute_result"
    }
   ],
   "source": [
    " df.shape"
   ]
  },
  {
   "cell_type": "code",
   "execution_count": null,
   "id": "e4d3c0f8",
   "metadata": {},
   "outputs": [],
   "source": []
  },
  {
   "cell_type": "code",
   "execution_count": 55,
   "id": "96cf4229",
   "metadata": {},
   "outputs": [],
   "source": [
    "df.drop(labels=[\"none\",\"none1\"], axis=1, inplace=True)"
   ]
  },
  {
   "cell_type": "code",
   "execution_count": 56,
   "id": "b8073502",
   "metadata": {},
   "outputs": [],
   "source": [
    "df.to_csv(\"data.csv\")"
   ]
  },
  {
   "cell_type": "code",
   "execution_count": 58,
   "id": "8b76180a",
   "metadata": {},
   "outputs": [
    {
     "data": {
      "text/html": [
       "<div>\n",
       "<style scoped>\n",
       "    .dataframe tbody tr th:only-of-type {\n",
       "        vertical-align: middle;\n",
       "    }\n",
       "\n",
       "    .dataframe tbody tr th {\n",
       "        vertical-align: top;\n",
       "    }\n",
       "\n",
       "    .dataframe thead th {\n",
       "        text-align: right;\n",
       "    }\n",
       "</style>\n",
       "<table border=\"1\" class=\"dataframe\">\n",
       "  <thead>\n",
       "    <tr style=\"text-align: right;\">\n",
       "      <th></th>\n",
       "      <th>المحافظة</th>\n",
       "      <th>المنطقة</th>\n",
       "      <th>فئة العقار</th>\n",
       "      <th>وصف العقار</th>\n",
       "      <th>لتصرف</th>\n",
       "      <th>النسبة</th>\n",
       "      <th>القطعة</th>\n",
       "      <th>التاريخ</th>\n",
       "      <th>المساحة</th>\n",
       "      <th>سعر البيع</th>\n",
       "    </tr>\n",
       "  </thead>\n",
       "  <tbody>\n",
       "    <tr>\n",
       "      <th>325</th>\n",
       "      <td>الأحمدي</td>\n",
       "      <td>الصباحية</td>\n",
       "      <td>خاص</td>\n",
       "      <td>بيت</td>\n",
       "      <td>بيع</td>\n",
       "      <td>%100.000</td>\n",
       "      <td>3</td>\n",
       "      <td>05/12/2022</td>\n",
       "      <td>375</td>\n",
       "      <td>245000</td>\n",
       "    </tr>\n",
       "    <tr>\n",
       "      <th>326</th>\n",
       "      <td>حولي</td>\n",
       "      <td>ض.الصديق</td>\n",
       "      <td>خاص</td>\n",
       "      <td>أرض</td>\n",
       "      <td>بيع</td>\n",
       "      <td>%100.000</td>\n",
       "      <td>7</td>\n",
       "      <td>05/12/2022</td>\n",
       "      <td>400</td>\n",
       "      <td>400000</td>\n",
       "    </tr>\n",
       "    <tr>\n",
       "      <th>327</th>\n",
       "      <td>الفروانية</td>\n",
       "      <td>غرب عبدالله المبارك</td>\n",
       "      <td>خاص</td>\n",
       "      <td>بيت</td>\n",
       "      <td>بيع</td>\n",
       "      <td>%100.000</td>\n",
       "      <td>5</td>\n",
       "      <td>05/12/2022</td>\n",
       "      <td>400</td>\n",
       "      <td>485000</td>\n",
       "    </tr>\n",
       "    <tr>\n",
       "      <th>328</th>\n",
       "      <td>...45678910111213</td>\n",
       "      <td>...</td>\n",
       "      <td>4</td>\n",
       "      <td>5</td>\n",
       "      <td>6</td>\n",
       "      <td>7</td>\n",
       "      <td>8</td>\n",
       "      <td>9</td>\n",
       "      <td>10</td>\n",
       "      <td>11</td>\n",
       "    </tr>\n",
       "    <tr>\n",
       "      <th>329</th>\n",
       "      <td>...</td>\n",
       "      <td>4</td>\n",
       "      <td>5</td>\n",
       "      <td>6</td>\n",
       "      <td>7</td>\n",
       "      <td>8</td>\n",
       "      <td>9</td>\n",
       "      <td>10</td>\n",
       "      <td>11</td>\n",
       "      <td>12</td>\n",
       "    </tr>\n",
       "  </tbody>\n",
       "</table>\n",
       "</div>"
      ],
      "text/plain": [
       "              المحافظة              المنطقة فئة العقار وصف العقار لتصرف  \\\n",
       "325            الأحمدي             الصباحية        خاص        بيت   بيع   \n",
       "326               حولي             ض.الصديق        خاص        أرض   بيع   \n",
       "327          الفروانية  غرب عبدالله المبارك        خاص        بيت   بيع   \n",
       "328  ...45678910111213                  ...          4          5     6   \n",
       "329                ...                    4          5          6     7   \n",
       "\n",
       "       النسبة القطعة     التاريخ المساحة سعر البيع  \n",
       "325  %100.000      3  05/12/2022     375    245000  \n",
       "326  %100.000      7  05/12/2022     400    400000  \n",
       "327  %100.000      5  05/12/2022     400    485000  \n",
       "328         7      8           9      10        11  \n",
       "329         8      9          10      11        12  "
      ]
     },
     "execution_count": 58,
     "metadata": {},
     "output_type": "execute_result"
    }
   ],
   "source": [
    "df.tail()"
   ]
  },
  {
   "cell_type": "code",
   "execution_count": null,
   "id": "b9a91211",
   "metadata": {},
   "outputs": [],
   "source": []
  }
 ],
 "metadata": {
  "kernelspec": {
   "display_name": "Python 3",
   "language": "python",
   "name": "python3"
  },
  "language_info": {
   "codemirror_mode": {
    "name": "ipython",
    "version": 3
   },
   "file_extension": ".py",
   "mimetype": "text/x-python",
   "name": "python",
   "nbconvert_exporter": "python",
   "pygments_lexer": "ipython3",
   "version": "3.8.8"
  }
 },
 "nbformat": 4,
 "nbformat_minor": 5
}
